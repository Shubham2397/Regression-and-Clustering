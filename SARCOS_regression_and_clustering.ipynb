{
 "cells": [
  {
   "cell_type": "markdown",
   "id": "336ddf43-7a51-4942-88b1-fbef05d440a8",
   "metadata": {},
   "source": [
    "# CSME2 Bonus Point Assignment 1\n",
    "\n",
    "<div style=\"text-align: right;font-size: 0.8em\">Document Version 1.0.2, released 04/12/2021</div>\n",
    "For detailed task instructions, please refer to the assignment PDF.\n",
    "\n",
    "DO NOT CLEAR THE OUTPUT of the notebook you are submitting!"
   ]
  },
  {
   "cell_type": "code",
   "execution_count": 1,
   "id": "55262e5f-2f40-4108-9138-7a526f6fa4c0",
   "metadata": {},
   "outputs": [],
   "source": [
    "# Add any additional import you need in this cell\n",
    "import numpy as np\n",
    "from sklearn.cluster import kmeans_plusplus, KMeans\n",
    "import scipy.io as scio\n",
    "import matplotlib.pyplot as plt\n",
    "\n",
    "np.random.seed(1234)"
   ]
  },
  {
   "cell_type": "markdown",
   "id": "e16807c6-9b2d-479f-a48c-61fd2cc82796",
   "metadata": {},
   "source": [
    "### Setup\n",
    "__Task A.1__ Load the data into the following numpy arrays. For the output, only use the first torque variable.\n",
    "Randomly split the data from the file ```sarcos_inv.mat``` into a training set (80%) and a validation set (20%)."
   ]
  },
  {
   "cell_type": "code",
   "execution_count": 2,
   "id": "c91bf5d1-90f6-4f61-a681-1242f3f81364",
   "metadata": {},
   "outputs": [],
   "source": [
    "mat1 = scio.loadmat('sarcos_inv.mat')\n",
    "mat2 = scio.loadmat('sarcos_inv_test.mat')\n",
    "\n",
    "train_data = mat1.get('sarcos_inv')\n",
    "test_data = mat2.get('sarcos_inv_test')\n",
    "\n",
    "# train_data = train_data[10:20,:]\n",
    "# test_data = test_data[10:20,:]\n",
    "\n",
    "\n",
    "# Shuffle data so that it can be random splitted\n",
    "perm = np.random.RandomState(42).permutation(len(train_data))\n",
    "\n",
    "# Input and output training data\n",
    "\n",
    "# Split train_data as 80% training data and 20% validation data\n",
    "n = train_data.shape[0]\n",
    "xs_train = train_data[perm[:int(n*0.8)], :21]  \n",
    "ys_train = train_data[perm[:int(n*0.8)], 22].reshape((-1,1))\n",
    "\n",
    "\n",
    "\n",
    "# Input and output validation data\n",
    "xs_valid = train_data[int(n*0.8):, :21]  \n",
    "ys_valid = train_data[int(n*0.8):, 22].reshape((-1,1))\n",
    "\n",
    "# Input and output test data\n",
    "xs_test = test_data[:, :21]\n",
    "ys_test = test_data[:, 22].reshape((-1,1))\n",
    "# np.random.shuffle(data1)\n",
    "# x1 = data1[:,0:21]\n",
    "# y1 = data1[:,22]\n",
    "\n",
    "# y1 = np.reshape(y1,(len(y1),1))\n",
    "\n",
    "# split  = round(0.8*len(x1))\n",
    "\n",
    "# # Input and output training 1data1\n",
    "# xs_train = x1[:split,:]\n",
    "# ys_train = y1[:split,:]\n",
    "\n",
    "# # Input and output validation 1data1\n",
    "# xs_valid = x1[split:,:]\n",
    "# ys_valid = y1[split:,:]\n",
    "# print(ys_valid)\n",
    "\n",
    "# Input and output test 1data1\n",
    "xs_test = test_data[:,0:21]\n",
    "ys_test = test_data[:,22]\n",
    "ys_test = np.reshape(ys_test,(len(ys_test),1))"
   ]
  },
  {
   "cell_type": "code",
   "execution_count": 3,
   "id": "432e41e8-7fa4-4d0a-a3b2-0c6881c7dbf8",
   "metadata": {},
   "outputs": [
    {
     "name": "stdout",
     "output_type": "stream",
     "text": [
      "(35587, 21)\n",
      "(35587, 1)\n",
      "(8897, 21)\n",
      "(8897, 1)\n",
      "(4449, 21)\n",
      "(4449, 1)\n"
     ]
    }
   ],
   "source": [
    "# Check for yourself \n",
    "# The following should lead (roughly) to output \n",
    "# (35587, 21)\n",
    "# (35587, 1)\n",
    "# (8897, 21)\n",
    "# (8897, 1)\n",
    "# (4449, 21)\n",
    "# (4449, 1)\n",
    "\n",
    "print(xs_train.shape)\n",
    "print(ys_train.shape)\n",
    "print(xs_valid.shape)\n",
    "print(ys_valid.shape)\n",
    "print(xs_test.shape)\n",
    "print(ys_test.shape)"
   ]
  },
  {
   "cell_type": "markdown",
   "id": "1cd20cae-ee79-4a62-84ca-a1e73b10cd33",
   "metadata": {},
   "source": [
    "__Task A.2__ Standardize the data such that\n",
    "1. Training inputs have mean 0\n",
    "2. Each training input variable has variance 1\n",
    "3. The training outputs have mean 0\n",
    "4. Apply the same transformation to the validation and test data\n",
    "\n",
    "Implement this manually, i.e., do not use a ready scaler like the one provided by scikit-learn."
   ]
  },
  {
   "cell_type": "code",
   "execution_count": 4,
   "id": "5c152c5c-c06b-4d99-8950-750bbcffabda",
   "metadata": {},
   "outputs": [
    {
     "name": "stdout",
     "output_type": "stream",
     "text": [
      "[[-0.31851944 -0.11134597 -2.20715939 ...  0.37732537  1.86230737\n",
      "  -0.59458637]\n",
      " [ 1.00246972  0.5727362   1.45352934 ... -0.58747539  0.0949612\n",
      "   1.40751214]\n",
      " [-1.15331023 -0.54018094  0.24142679 ... -0.67356592 -0.60626833\n",
      "   1.19441092]\n",
      " ...\n",
      " [-2.0960696  -1.58323126  2.5543946  ... -1.70288171  1.13653731\n",
      "   1.10708797]\n",
      " [-1.86608363 -1.0551908   1.24064696 ...  2.88387287 -0.93854162\n",
      "  -1.82536712]\n",
      " [ 1.34027364 -1.14150061  1.00577962 ... -0.42576858  0.48104529\n",
      "   0.74358347]]\n",
      "(8897, 1)\n",
      "(8897, 21)\n"
     ]
    }
   ],
   "source": [
    "\n",
    "def std_data(X):\n",
    "    \n",
    "    return (X-np.mean(X,axis = 0))/np.std(X,axis = 0)\n",
    "\n",
    "\n",
    "# Store the standardized data in the following variables\n",
    "xs_train_std = std_data(xs_train)\n",
    "print(xs_train_std)\n",
    "ys_train_std = std_data(ys_train)\n",
    "\n",
    "xs_valid_std = std_data(xs_valid)\n",
    "ys_valid_std = std_data(ys_valid)\n",
    "print(ys_valid_std.shape)\n",
    "print(xs_valid_std.shape)\n",
    "xs_test_std = std_data(xs_test)\n",
    "ys_test_std = std_data(ys_test)\n"
   ]
  },
  {
   "cell_type": "code",
   "execution_count": 5,
   "id": "28875927-bb84-4b91-a451-3aafb42bdcc9",
   "metadata": {},
   "outputs": [
    {
     "name": "stdout",
     "output_type": "stream",
     "text": [
      "3.465118419636068e-15\n",
      "9.484019430860921e-17\n",
      "2.856059530798692e-17\n",
      "6.069601879034238e-17\n",
      "-2.7264507890483246e-17\n",
      "-2.3636845334343634e-16\n",
      "[1. 1. 1. 1. 1. 1. 1. 1. 1. 1. 1. 1. 1. 1. 1. 1. 1. 1. 1. 1. 1.]\n",
      "[1. 1. 1. 1. 1. 1. 1. 1. 1. 1. 1. 1. 1. 1. 1. 1. 1. 1. 1. 1. 1.]\n",
      "[1. 1. 1. 1. 1. 1. 1. 1. 1. 1. 1. 1. 1. 1. 1. 1. 1. 1. 1. 1. 1.]\n"
     ]
    }
   ],
   "source": [
    "# Check for yourself\n",
    "# The following should lead to (roughly) six zeros and three arrays with (approximately) ones\n",
    "print(np.mean(xs_train_std))\n",
    "print(np.mean(ys_train_std))\n",
    "print(np.mean(xs_valid_std))\n",
    "print(np.mean(ys_valid_std))\n",
    "print(np.mean(xs_test_std))\n",
    "print(np.mean(ys_test_std))\n",
    "\n",
    "print(np.var(xs_train_std, axis=0))\n",
    "print(np.var(xs_valid_std, axis=0))\n",
    "print(np.var(xs_test_std, axis=0))"
   ]
  },
  {
   "cell_type": "markdown",
   "id": "92e51315-ee86-43b6-ba6d-f869d19e1e90",
   "metadata": {},
   "source": [
    "__Task A.3__"
   ]
  },
  {
   "cell_type": "code",
   "execution_count": 6,
   "id": "42b3ac19-e652-4a78-8cb7-f030c466144a",
   "metadata": {},
   "outputs": [],
   "source": [
    "# Task A.3.a\n",
    "# Implement a function estimating the variance\n",
    "def my_variance(xs):\n",
    "    \"\"\"Calculate the empirical variance of a given vector of scalars\n",
    "    \n",
    "    Arguments\n",
    "    xs      1d numpy array\n",
    "    \n",
    "    Returns\n",
    "    The empirical variance of the provided vector\n",
    "    \"\"\"\n",
    "    # Your implementation\n",
    "    Num = len(xs)\n",
    "    mean = np.mean(xs)\n",
    "    sq_error = np.square(xs - mean)\n",
    "    variance = np.sum(sq_error)/(Num-1)\n",
    "    return variance"
   ]
  },
  {
   "cell_type": "code",
   "execution_count": 7,
   "id": "c3348e0c-6799-464a-9939-159dfd0e5a31",
   "metadata": {},
   "outputs": [
    {
     "name": "stdout",
     "output_type": "stream",
     "text": [
      "1.0000281009385714\n"
     ]
    }
   ],
   "source": [
    "# Task A.3.b\n",
    "# Calculate the variance of ys_train_std using your function my_variance\n",
    "var_ys_train = my_variance(ys_train_std)\n",
    "print (var_ys_train)\n",
    "# plt.scatter(xs_valid_std,ys_valid_std,var"
   ]
  },
  {
   "cell_type": "code",
   "execution_count": 8,
   "id": "ad11e721-414a-4944-bd78-9e7b9c8163c3",
   "metadata": {},
   "outputs": [],
   "source": [
    "# Task A.3.c\n",
    "# Implement a function calculating the SMSE between two 1d numpy arrays given a normalizing factor\n",
    "def my_smse(z1, z2, s):\n",
    "    \"\"\"Calculate the Standardized Mean Squared Error (SMSE)\n",
    "    \n",
    "    Arguments\n",
    "    z1      1d numpy array (usually the predictions)\n",
    "    z2      1d numpy array (usually the test data)\n",
    "    s       Normalization factor (usually the variance of the test data)\n",
    "    \n",
    "    Returns\n",
    "    The SMSE of the provided data\n",
    "    \"\"\"\n",
    "    # Your implementation\n",
    "    N = len(z1)\n",
    "    error = (z1 - z2)**2\n",
    "    smse = (np.sum(error))/(N*s)\n",
    "    \n",
    "    return smse"
   ]
  },
  {
   "cell_type": "markdown",
   "id": "ef4f8d54-4e5d-4706-81dc-50e5902d83db",
   "metadata": {},
   "source": [
    "## Linear regression\n",
    "### Simple linear regression\n",
    "__Task A.4__"
   ]
  },
  {
   "cell_type": "code",
   "execution_count": 9,
   "id": "2a9334e8-04c3-4b0b-aa79-ac3888b9ab59",
   "metadata": {},
   "outputs": [
    {
     "name": "stdout",
     "output_type": "stream",
     "text": [
      "(8897, 22)\n",
      "0.07566906841154482\n"
     ]
    }
   ],
   "source": [
    "# This variable should contain the weights corresponding to simple linear regression (LS criterion, no bias term)\n",
    "w_lr = np.dot(np.linalg.pinv(xs_train_std),ys_train_std)\n",
    "# print(w_lr.shape)\n",
    "# This variable should contain the predictions using w_lr on the validation data\n",
    "xs_valid_std_new = np.concatenate((np.ones((len(xs_valid_std),1)), xs_valid_std),axis = 1)\n",
    "print(xs_valid_std_new.shape)\n",
    "\n",
    "ys_pred_valid = np.dot(xs_valid_std,w_lr)\n",
    "\n",
    "# residual = ys_pred_valid - ys_valid_std\n",
    "# mean_r = np.mean(residual)\n",
    "# std_r = np.std(residual)\n",
    "# normal_res = (residual - mean_r)/std_r\n",
    "# plt.scatter(ys_pred_valid,normal_res)\n",
    "\n",
    "# This should contain the resulting smse\n",
    "smse_lr = my_smse(ys_pred_valid, ys_valid_std, var_ys_train)\n",
    "print(smse_lr)"
   ]
  },
  {
   "cell_type": "markdown",
   "id": "126a7728-c157-484a-8c19-737487f7dade",
   "metadata": {},
   "source": [
    "### Linear regression with polynomial features\n",
    "__Task A.5__"
   ]
  },
  {
   "cell_type": "code",
   "execution_count": 10,
   "id": "410e12b5-a083-4cdf-8801-c122eb597bb8",
   "metadata": {},
   "outputs": [],
   "source": [
    "# Task A.5.a\n",
    "def my_poly_features(xs, degree):\n",
    "    \"\"\"Generates polynomial features from given data\n",
    "    \n",
    "    The polynomial features should include monomials (i.e., x_i, x_i**2 etc)\n",
    "    and interaction terms (x_1*x_2 etc), but no repetitions.\n",
    "    The order of the samples should not be changed through the transformation.\n",
    "    \n",
    "    Arguments\n",
    "    xs      2d numpy array of shape (N,D) containing N samples of dimension D\n",
    "    degree  Maximum degree of polynomials to be considered\n",
    "    \n",
    "    Returns\n",
    "    An (N,M) numpy array containing the transformed input\n",
    "    \"\"\"\n",
    "    # Your implementation\n",
    "    x1 = np.vander(xs,degree,increasing=True)\n",
    "    arr = xs.T\n",
    "    x2 = []\n",
    "    for i in range(len(arr)):\n",
    "        x = arr[i]@arr[i+1:]\n",
    "\n",
    "    \n",
    "    pass"
   ]
  },
  {
   "cell_type": "code",
   "execution_count": 11,
   "id": "88f1db66-1d17-425b-99dd-525e80112ca6",
   "metadata": {},
   "outputs": [],
   "source": [
    "# Tasks A.5.b\n",
    "# This variable should contain the weights corresponding to linear regression using polynomial features up to degree 2 and 3\n",
    "# w_poly2 =\n",
    "# w_poly3\n",
    "\n",
    "# This variable should contain the predictions using w_poly2 and w_poly3 on the validation data\n",
    "# ys_pred_poly2_valid = \n",
    "# ys_pred_poly3_valid = \n",
    "\n",
    "# This should contain the resulting smse\n",
    "# smse_poly2 = my_smse(ys_pred_poly2_valid, ys_valid_std, var_ys_train)\n",
    "# smse_poly3 = my_smse(ys_pred_poly3_valid, ys_valid_std, var_ys_train)"
   ]
  },
  {
   "cell_type": "markdown",
   "id": "951d9707-89e6-451b-ac2d-8423845ab019",
   "metadata": {},
   "source": [
    "## Clustering\n",
    "__Task B.1__ Implement the basic $K$-Means algorithm."
   ]
  },
  {
   "cell_type": "code",
   "execution_count": 12,
   "id": "91c523b8-f2ed-41df-9dbb-afd254102f8a",
   "metadata": {},
   "outputs": [],
   "source": [
    "def assigning_clusters(X,centroid):\n",
    "    distances = np.array([np.linalg.norm(X-centroid[i],axis = 1) for i in range(len(centroid))]).T\n",
    "    \n",
    "    idx_min = np.array([np.argmin(distance) for distance in distances])  \n",
    "    return idx_min\n",
    "\n",
    "\n",
    "def my_kmeans(xs, init_centers, n_iter):\n",
    "    \"\"\"Runs the K-Means algorithm from a given initialization\n",
    "    \n",
    "    Arguments\n",
    "    xs            2d numpy array of shape (N,D) containing N samples of dimension D\n",
    "    init_centers  2d numpy array of shape (K,D) containing the initial cluster centers\n",
    "    n_iter        Number of iterations of the K-Means algorithm\n",
    "    \n",
    "    Returns\n",
    "    An (K,D) numpy array containing the final cluster centers\n",
    "    \"\"\"\n",
    "    # Your implementation\n",
    "    \n",
    "   \n",
    "    idx_min = assigning_clusters(xs,init_centers)\n",
    "    \n",
    "    for i in range(n_iter):\n",
    "        new_centers = []\n",
    "        \n",
    "        for i in range(len(init_centers)):\n",
    "            new_centers.append(xs[idx_min==i].mean(axis=0))\n",
    "        new_centers = np.array(new_centers)\n",
    "        \n",
    "        idx_min = assigning_clusters(xs,new_centers)      \n",
    "        if (init_centers == new_centers).any():\n",
    "            break\n",
    "    \n",
    "    \n",
    "    return new_centers\n",
    "    "
   ]
  },
  {
   "cell_type": "markdown",
   "id": "8fbbdd8d-0316-4eba-9172-e9411bead541",
   "metadata": {},
   "source": [
    "__Task B.2__ Generate test data set and plot it."
   ]
  },
  {
   "cell_type": "code",
   "execution_count": 13,
   "id": "9c0e6ca9-f070-4590-a130-d1b5aef0c736",
   "metadata": {},
   "outputs": [
    {
     "data": {
      "text/plain": [
       "<matplotlib.collections.PathCollection at 0x2c70f259340>"
      ]
     },
     "execution_count": 13,
     "metadata": {},
     "output_type": "execute_result"
    },
    {
     "data": {
      "image/png": "[encoded data removed]",
      "text/plain": [
       "<Figure size 576x432 with 1 Axes>"
      ]
     },
     "metadata": {
      "needs_background": "light"
     },
     "output_type": "display_data"
    }
   ],
   "source": [
    "# Test data of shape (100,2)\n",
    "def gaus_samples (N,p,mu,cvm):\n",
    "    X= np.random.multivariate_normal(mu, cvm, int(p*N))\n",
    "    return X\n",
    "\n",
    "mu1,mu2,mu3,mu4 = [-2,2],[-2,-2],[2,-2],[2,2]\n",
    "cv1,cv2,cv3,cv4 = 0.2*np.eye(len(mu1)),0.2*np.eye(len(mu1)),0.5*np.eye(len(mu1)),0.5*np.eye(len(mu1))\n",
    "p1,p2,p3,p4 = 0.3,0.2,0.4,0.1\n",
    "\n",
    "\n",
    "c1 = gaus_samples(100,p1,mu1,cv1)\n",
    "c2 = gaus_samples(100,p2,mu2,cv2)\n",
    "c3 = gaus_samples(100,p3,mu3,cv3)\n",
    "c4 = gaus_samples(100,p4,mu4,cv4)\n",
    "\n",
    "\n",
    "xs_cluster_test = np.concatenate((c1,c2,c3,c4))\n",
    "plt.figure(figsize=(8,6))\n",
    "plt.scatter(xs_cluster_test[:, 0], xs_cluster_test[:, 1])"
   ]
  },
  {
   "cell_type": "markdown",
   "id": "c8583191-6666-4fb1-aa81-4a2994e502c2",
   "metadata": {},
   "source": [
    "__Task B.3__ Run your $K$-Means algorithm on the test data for $K=2,3,4,5$ clusters and plot the final cluster centers."
   ]
  },
  {
   "cell_type": "code",
   "execution_count": 14,
   "id": "f20b50a8-ab79-4808-af16-3f29f4131837",
   "metadata": {},
   "outputs": [
    {
     "data": {
      "image/png": "[encoded data removed]",
      "text/plain": [
       "<Figure size 432x288 with 4 Axes>"
      ]
     },
     "metadata": {
      "needs_background": "light"
     },
     "output_type": "display_data"
    },
    {
     "data": {
      "text/plain": [
       "<Figure size 576x432 with 0 Axes>"
      ]
     },
     "metadata": {},
     "output_type": "display_data"
    }
   ],
   "source": [
    "fig, ax = plt.subplots(2,2)\n",
    "plt.figure(figsize = (8,6))\n",
    "for i in range(4):\n",
    "    K = i+2\n",
    "    if i < 2 :\n",
    "        x = 0\n",
    "        y = i\n",
    "    else:\n",
    "        x = 1\n",
    "        y = i-2\n",
    "    n_iter = 25\n",
    "    cntrs,cntrs_idx = kmeans_plusplus(xs_cluster_test, K, random_state=0) \n",
    "\n",
    "    new_centers = my_kmeans(xs_cluster_test,cntrs,n_iter)\n",
    "    ax[x,y].scatter(xs_cluster_test[:,0],xs_cluster_test[:,1])\n",
    "    ax[x,y].scatter(cntrs[:,0],cntrs[:,1],c = 'red')\n",
    "   "
   ]
  },
  {
   "cell_type": "markdown",
   "id": "664368f6-688f-45ed-8ca2-4c26fe915a67",
   "metadata": {},
   "source": [
    "## Radial Basis Function Network\n",
    "__Task C.1__ Find $K=100$ cluster centers using $K$-Means."
   ]
  },
  {
   "cell_type": "code",
   "execution_count": 15,
   "id": "0fdbd9b8-f444-4546-a703-491d430ca44e",
   "metadata": {},
   "outputs": [
    {
     "name": "stdout",
     "output_type": "stream",
     "text": [
      "(100, 21)\n"
     ]
    }
   ],
   "source": [
    "# This 100x21 numpy array should contain the cluster centers\n",
    "def centroid(X):    \n",
    "    km = KMeans(n_clusters=100)\n",
    "    km.fit_predict(X).reshape(-1,1)\n",
    "    return km.cluster_centers_\n",
    "xs_centers = centroid(xs_train)\n",
    "print(xs_centers.shape)"
   ]
  },
  {
   "cell_type": "markdown",
   "id": "283eb1a9-5e6d-4df6-a653-c4912a2c4046",
   "metadata": {},
   "source": [
    "__Task C.2__ Implement the Gaussian basis functions and transform the data accordingly"
   ]
  },
  {
   "cell_type": "code",
   "execution_count": 16,
   "id": "4829d70b-7276-449d-a801-c151a2d19279",
   "metadata": {},
   "outputs": [],
   "source": [
    "\n",
    "def gaussian_basis(X,cluster_center,std=25):\n",
    "    # for x in range(len(X.T)):\n",
    "    r = np.array([np.linalg.norm(X-cluster_center[i],axis = 1) for i in range(len(cluster_center))]).T\n",
    "    \n",
    "    \n",
    "    const = (np.sqrt(2*np.pi*std**2))**-1\n",
    "    # exp = np.exp(-(r**2)/(2*std**2))\n",
    "    exp = np.exp((-r**2)/(2*std**2))\n",
    "    # gaussian = ((np.sqrt(2*np.pi*std**2))**-1)*(np.exp(-(r**2)/(2*std**2)))\n",
    "    gaussian = const*exp\n",
    "    return gaussian\n",
    "\n",
    "\n",
    "xs_train_gauss = gaussian_basis(xs_train_std, xs_centers)\n",
    "xs_train_gauss_new = np.concatenate((np.ones((len(xs_train_gauss),1)), xs_train_gauss),axis = 1)\n"
   ]
  },
  {
   "cell_type": "markdown",
   "id": "ee397e68-58af-4936-b70a-ea9f21510483",
   "metadata": {},
   "source": [
    "__Task C.3__ Run simple linear regression on the transformed data and evaluate it on the test set"
   ]
  },
  {
   "cell_type": "code",
   "execution_count": 17,
   "id": "3520a758-68a4-4cc3-8913-0bae0c6ae1aa",
   "metadata": {},
   "outputs": [
    {
     "name": "stdout",
     "output_type": "stream",
     "text": [
      "0.09951820860699878\n"
     ]
    }
   ],
   "source": [
    "\n",
    "\n",
    "\n",
    "w_lr_gauss1 = np.dot(np.linalg.pinv(xs_train_gauss_new),ys_train_std)\n",
    "\n",
    "\n",
    "xs_valid_gauss1 = gaussian_basis(xs_valid_std,xs_centers)\n",
    "xs_valid_gauss_new = np.concatenate((np.ones((len(xs_valid_gauss1),1)), xs_valid_gauss1),axis = 1)\n",
    "\n",
    "\n",
    "# This should contain the resulting predictions on the validation data set\n",
    "\n",
    "ys_pred_gauss_valid1 =  xs_valid_gauss_new @ w_lr_gauss1\n",
    "\n",
    "\n",
    "# This should contain the corresponding SMSE\n",
    "\n",
    "smse_gauss1 = my_smse(ys_pred_gauss_valid1, ys_valid_std, var_ys_train)\n",
    "\n",
    "\n",
    "print(smse_gauss1)"
   ]
  },
  {
   "cell_type": "markdown",
   "id": "0311c46c-af9b-45a6-8926-0648b4e3a218",
   "metadata": {},
   "source": [
    "__Open task__ Can you improve the performance of the RBF network?"
   ]
  },
  {
   "cell_type": "markdown",
   "id": "586f77ae-b5f9-4e02-9564-42573e5045a2",
   "metadata": {},
   "source": [
    "__Task C.4__ Evaluate your final model (either the one from Task C.3 or your improved model from the open task) on the test data"
   ]
  },
  {
   "cell_type": "code",
   "execution_count": 18,
   "id": "a35eda50-ec10-453d-952a-82c73dfd2b0e",
   "metadata": {},
   "outputs": [
    {
     "name": "stdout",
     "output_type": "stream",
     "text": [
      "0.051769871477786916\n"
     ]
    }
   ],
   "source": [
    "# This should contain the predictions on the test data set\n",
    "\n",
    "xs_test_gauss = gaussian_basis(xs_test_std,xs_centers)\n",
    "xs_test_gauss_new = np.concatenate((np.ones((len(xs_test_gauss),1)), xs_test_gauss),axis = 1)\n",
    "ys_pred_test = xs_test_gauss_new @ w_lr_gauss1\n",
    "\n",
    "# This should contain the resulting SMSE on the test data\n",
    "smse_test = my_smse(ys_pred_test, ys_test_std, var_ys_train)\n",
    "print(smse_test)"
   ]
  }
 ],
 "metadata": {
  "kernelspec": {
   "display_name": "Python 3 (ipykernel)",
   "language": "python",
   "name": "python3"
  },
  "language_info": {
   "codemirror_mode": {
    "name": "ipython",
    "version": 3
   },
   "file_extension": ".py",
   "mimetype": "text/x-python",
   "name": "python",
   "nbconvert_exporter": "python",
   "pygments_lexer": "ipython3",
   "version": "3.9.7"
  }
 },
 "nbformat": 4,
 "nbformat_minor": 5
}
